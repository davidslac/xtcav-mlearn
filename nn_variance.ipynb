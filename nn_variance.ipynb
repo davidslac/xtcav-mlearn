{
 "cells": [
  {
   "cell_type": "code",
   "execution_count": 1,
   "metadata": {
    "collapsed": true
   },
   "outputs": [],
   "source": [
    "%matplotlib inline\n",
    "import matplotlib.pyplot as plt\n",
    "import random\n",
    "from collections import namedtuple\n",
    "import numpy as np\n",
    "import numpy.polynomial.polynomial as polynomial\n",
    "import tensorflow as tf\n",
    "random.seed(234921)"
   ]
  },
  {
   "cell_type": "code",
   "execution_count": 2,
   "metadata": {
    "collapsed": false
   },
   "outputs": [
    {
     "name": "stdout",
     "output_type": "stream",
     "text": [
      "poly_roots: [-3 -2 -1  1  2  3  4]\n",
      "poly_coeffs: [ 144.  -36. -196.   49.   56.  -14.   -4.    1.]\n"
     ]
    }
   ],
   "source": [
    "# make a polynomial with the given number of roots, but no root at 0\n",
    "poly_degree = 7\n",
    "poly_roots = list(np.arange(poly_degree + 1) - int(poly_degree/2))\n",
    "poly_roots.remove(0)\n",
    "poly_roots = np.array(poly_roots)\n",
    "print \"poly_roots: %s\" % poly_roots\n",
    "poly_coeffs = polynomial.polyfromroots(poly_roots)\n",
    "print \"poly_coeffs: %s\" % poly_coeffs"
   ]
  },
  {
   "cell_type": "code",
   "execution_count": 3,
   "metadata": {
    "collapsed": false
   },
   "outputs": [],
   "source": [
    "deltax = .1\n",
    "x_all = np.arange(poly_roots[0]-.2, poly_roots[-1]+.2, deltax)\n",
    "y_all = polynomial.polyval(x_all, poly_coeffs)\n",
    "\n",
    "number_points_to_train = 20\n",
    "inds = range(len(x_all))\n",
    "random.shuffle(inds)\n",
    "x_train = x_all[inds[0:number_points_to_train]]\n",
    "y_train = y_all[inds[0:number_points_to_train]]"
   ]
  },
  {
   "cell_type": "code",
   "execution_count": 4,
   "metadata": {
    "collapsed": false
   },
   "outputs": [
    {
     "data": {
      "image/png": "[encoded data removed]",
      "text/plain": [
       "<matplotlib.figure.Figure at 0x7fdc304cbe10>"
      ]
     },
     "metadata": {},
     "output_type": "display_data"
    }
   ],
   "source": [
    "plt.plot(x_all,y_all)\n",
    "plt.plot(x_train, y_train, '*');"
   ]
  },
  {
   "cell_type": "code",
   "execution_count": 5,
   "metadata": {
    "collapsed": false,
    "scrolled": true
   },
   "outputs": [],
   "source": [
    "# following https://www.tensorflow.org/versions/master/get_started/index.html\n",
    "# we'll fit a linear model to this.\n",
    "\n",
    "# I'm using a namedtuple because I was clobbering variable names with the polynomial data\n",
    "\n",
    "linModel = namedtuple(\"TensorFlowModel\", \"W b y loss optimizer train\")\n",
    "linModel.W = tf.Variable(tf.random_uniform([1],-1.0, 1.0))\n",
    "linModel.b = tf.Variable(tf.zeros([1]))\n",
    "linModel.y = linModel.W * x_train + linModel.b  # cool how you can multple a tf variable against a numpy array\n"
   ]
  },
  {
   "cell_type": "code",
   "execution_count": 6,
   "metadata": {
    "collapsed": false
   },
   "outputs": [],
   "source": [
    "linModel.loss = tf.reduce_mean(tf.square(linModel.y - y_train))\n",
    "# at first I did this with the learning rate of 0.5, but that is to big, I quickly got Nan's in the optimizaiton\n",
    "linModel.optimizer = tf.train.GradientDescentOptimizer(learning_rate=0.005)\n",
    "linModel.train = linModel.optimizer.minimize(linModel.loss)"
   ]
  },
  {
   "cell_type": "code",
   "execution_count": 7,
   "metadata": {
    "collapsed": true
   },
   "outputs": [],
   "source": [
    "linModel.init = tf.initialize_all_variables()"
   ]
  },
  {
   "cell_type": "code",
   "execution_count": 8,
   "metadata": {
    "collapsed": true
   },
   "outputs": [],
   "source": [
    "linModel.sess = tf.Session()\n",
    "linModel.sess.run(linModel.init)"
   ]
  },
  {
   "cell_type": "code",
   "execution_count": 9,
   "metadata": {
    "collapsed": false
   },
   "outputs": [
    {
     "name": "stdout",
     "output_type": "stream",
     "text": [
      "step=0 W=0.13 b=-0.01\n",
      "step=100 W=-16.11 b=11.89\n",
      "step=200 W=-18.39 b=20.12\n",
      "step=300 W=-19.62 b=24.57\n",
      "step=400 W=-20.28 b=26.98\n",
      "step=500 W=-20.64 b=28.28\n",
      "step=600 W=-20.83 b=28.99\n",
      "step=700 W=-20.93 b=29.37\n",
      "step=800 W=-20.99 b=29.58\n",
      "step=900 W=-21.02 b=29.69\n",
      "step=1000 W=-21.04 b=29.75\n"
     ]
    }
   ],
   "source": [
    "for step in xrange(1001):\n",
    "    linModel.sess.run(linModel.train)\n",
    "    if step % 100 == 0:\n",
    "        print \"step=%d W=%.2f b=%.2f\" % (step, linModel.sess.run(linModel.W), linModel.sess.run(linModel.b))"
   ]
  },
  {
   "cell_type": "code",
   "execution_count": 10,
   "metadata": {
    "collapsed": false
   },
   "outputs": [],
   "source": [
    "linModel.W_result = linModel.sess.run(linModel.W)\n",
    "linModel.b_result = linModel.sess.run(linModel.b)"
   ]
  },
  {
   "cell_type": "code",
   "execution_count": 11,
   "metadata": {
    "collapsed": false
   },
   "outputs": [
    {
     "data": {
      "text/plain": [
       "[<matplotlib.lines.Line2D at 0x7fdbdcb12810>]"
      ]
     },
     "execution_count": 11,
     "metadata": {},
     "output_type": "execute_result"
    },
    {
     "data": {
      "image/png": "[encoded data removed]",
      "text/plain": [
       "<matplotlib.figure.Figure at 0x7fdbdcb12e10>"
      ]
     },
     "metadata": {},
     "output_type": "display_data"
    }
   ],
   "source": [
    "plt.plot(x_all, y_all)\n",
    "plt.plot(x_all, linModel.W_result * x_all + linModel.b_result)"
   ]
  },
  {
   "cell_type": "code",
   "execution_count": 12,
   "metadata": {
    "collapsed": false
   },
   "outputs": [],
   "source": [
    "linModel.sess.close()\n",
    "del linModel"
   ]
  },
  {
   "cell_type": "markdown",
   "metadata": {},
   "source": [
    "## Nueral network\n",
    "\n",
    "Let's build a two layer nueral network, where we use a bunch of nodes in the hidden layer. \n",
    "Theoretically, you can fit any function with enough nodes there. So we'll build up:\n",
    "\n",
    "$$ H = \\sigma(x \\cdot W_h + B_h)$$\n",
    "$$ O = \\sigma(H \\cdot W_o + B_o)$$\n",
    "\n",
    "The terms will be as follows:\n",
    "  \n",
    "  * input: $x$, will be a  $20 \\times 1$ matrix\n",
    "  * $W_h$ will have shape: $1 \\times N$ where $N$ is the number of nodes in the hidden layer\n",
    "  * $B_h$ will have shape: $1 \\times N$ \n",
    "  * $H$ will have shape: $20 \\times N$\n",
    "  * $W_o$ will have shape $N \\times 1$\n",
    "  * $B_o$ will have shape $1 \\times 1$\n",
    "  * Finall $O$ will have shape $20 \\times 1$\n",
    "  \n",
    "And $\\sigma$ will be the sigmoid function. First we'll see what happens without any regularization."
   ]
  },
  {
   "cell_type": "code",
   "execution_count": 45,
   "metadata": {
    "collapsed": false
   },
   "outputs": [],
   "source": [
    "nnModel = namedtuple(\"TensorFlowNNModel\", \"W_h B_h W_o B_o model loss optimizer train init sess\")\n",
    "number_nuerons_hidden_layer = 500\n",
    "stddev = 3.0\n",
    "nnModel.X = tf.placeholder(\"float32\", [None,1])\n",
    "nnModel.Y = tf.placeholder(\"float32\", [None,1])\n",
    "nnModel.W_h = tf.Variable(tf.random_normal((1, number_nuerons_hidden_layer), stddev=stddev))\n",
    "nnModel.B_h = tf.Variable(tf.random_normal((1, number_nuerons_hidden_layer), stddev=stddev))\n",
    "nnModel.W_o = tf.Variable(tf.random_normal((number_nuerons_hidden_layer,1), stddev=stddev))\n",
    "nnModel.B_o = tf.Variable(tf.random_normal((1,1), stddev=stddev))"
   ]
  },
  {
   "cell_type": "code",
   "execution_count": 46,
   "metadata": {
    "collapsed": false
   },
   "outputs": [],
   "source": [
    "# build model\n",
    "X_times_W_h = tf.matmul(nnModel.X, nnModel.W_h)\n",
    "add_bias_h = tf.add(X_times_W_h, nnModel.B_h)\n",
    "hidden_layer_res = tf.nn.sigmoid(add_bias_h)\n",
    "hidden_times_W_o = tf.matmul(hidden_layer_res, nnModel.W_o)\n",
    "add_bias_o = tf.add(hidden_times_W_o, nnModel.B_o)\n",
    "# earlier I was applying a sigmoid and confused by the bad results, but a \n",
    "# sigmoid outputs to [-1,1], you don't want to use that to fit a polynomial\n",
    "nnModel.model =  add_bias_o    # tf.sigmoid(add_bias_o)"
   ]
  },
  {
   "cell_type": "code",
   "execution_count": 47,
   "metadata": {
    "collapsed": false
   },
   "outputs": [],
   "source": [
    "nnModel.loss = tf.reduce_mean(tf.square(nnModel.model - nnModel.Y))\n",
    "nnModel.optimizer = tf.train.GradientDescentOptimizer(learning_rate=0.01)\n",
    "nnModel.train = nnModel.optimizer.minimize(nnModel.loss)\n"
   ]
  },
  {
   "cell_type": "code",
   "execution_count": 48,
   "metadata": {
    "collapsed": true
   },
   "outputs": [],
   "source": [
    "nnModel.init = tf.initialize_all_variables()"
   ]
  },
  {
   "cell_type": "code",
   "execution_count": 49,
   "metadata": {
    "collapsed": false
   },
   "outputs": [],
   "source": [
    "nnModel.sess = tf.Session()\n",
    "nnModel.sess.run(nnModel.init)"
   ]
  },
  {
   "cell_type": "code",
   "execution_count": 50,
   "metadata": {
    "collapsed": false
   },
   "outputs": [
    {
     "name": "stdout",
     "output_type": "stream",
     "text": [
      "step=0 loss=50426.38\n",
      "step=1000 loss=1038.00\n",
      "step=2000 loss=1011.19\n",
      "step=3000 loss=926.87\n",
      "step=4000 loss=740.80\n",
      "step=5000 loss=824.96\n",
      "step=6000 loss=970.82\n",
      "step=7000 loss=924.87\n",
      "step=8000 loss=919.70\n",
      "step=9000 loss=904.66\n",
      "step=10000 loss=905.34\n"
     ]
    }
   ],
   "source": [
    "nn_X_train = np.resize(x_train, (len(x_train),1))\n",
    "nn_Y_train = np.resize(y_train, (len(y_train),1))\n",
    "\n",
    "for step in xrange(10001):\n",
    "    nnModel.sess.run(nnModel.train, feed_dict={nnModel.X:nn_X_train, nnModel.Y:nn_Y_train})\n",
    "    if step % 1000 == 0:\n",
    "        print \"step=%d loss=%.2f\" % (step, nnModel.sess.run(nnModel.loss, feed_dict={nnModel.X:nn_X_train, nnModel.Y:nn_Y_train}))"
   ]
  },
  {
   "cell_type": "code",
   "execution_count": 51,
   "metadata": {
    "collapsed": false
   },
   "outputs": [],
   "source": [
    "nnModel.y_res = nnModel.sess.run(nnModel.model, feed_dict={nnModel.X:nn_X_train})\n",
    "x_all_nn_shape = np.resize(x_all, (len(x_all), 1))\n",
    "nnModel.y_all = nnModel.sess.run(nnModel.model, feed_dict={nnModel.X:x_all_nn_shape})\n",
    "\n"
   ]
  },
  {
   "cell_type": "code",
   "execution_count": 52,
   "metadata": {
    "collapsed": false
   },
   "outputs": [
    {
     "data": {
      "image/png": "[encoded data removed]",
      "text/plain": [
       "<matplotlib.figure.Figure at 0x7fdbd4741990>"
      ]
     },
     "metadata": {},
     "output_type": "display_data"
    }
   ],
   "source": [
    "plt.plot(x_all, y_all)\n",
    "plt.plot(x_all, nnModel.y_all)\n",
    "plt.plot(x_train, nnModel.y_res[:,0], '*');"
   ]
  },
  {
   "cell_type": "code",
   "execution_count": 44,
   "metadata": {
    "collapsed": true
   },
   "outputs": [],
   "source": [
    "nnModel.sess.close()\n",
    "del nnModel"
   ]
  },
  {
   "cell_type": "code",
   "execution_count": null,
   "metadata": {
    "collapsed": true
   },
   "outputs": [],
   "source": []
  }
 ],
 "metadata": {
  "kernelspec": {
   "display_name": "Python 2",
   "language": "python",
   "name": "python2"
  },
  "language_info": {
   "codemirror_mode": {
    "name": "ipython",
    "version": 2
   },
   "file_extension": ".py",
   "mimetype": "text/x-python",
   "name": "python",
   "nbconvert_exporter": "python",
   "pygments_lexer": "ipython2",
   "version": "2.7.11"
  }
 },
 "nbformat": 4,
 "nbformat_minor": 0
}
