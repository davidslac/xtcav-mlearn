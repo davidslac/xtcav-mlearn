{
 "cells": [
  {
   "cell_type": "code",
   "execution_count": 1,
   "metadata": {
    "collapsed": true
   },
   "outputs": [],
   "source": [
    "import numpy as np\n",
    "import tensorflow as tf"
   ]
  },
  {
   "cell_type": "code",
   "execution_count": 11,
   "metadata": {
    "collapsed": false
   },
   "outputs": [],
   "source": [
    "x = tf.placeholder(\"float32\",[None,1])\n",
    "x_train = np.resize(np.arange(10), (10,1))\n",
    "y_train = 3*x_train - 10"
   ]
  },
  {
   "cell_type": "code",
   "execution_count": 3,
   "metadata": {
    "collapsed": false
   },
   "outputs": [],
   "source": [
    "W = tf.Variable(tf.random_uniform([1],-1.0, 1.0))\n",
    "b = tf.Variable(tf.zeros([1]))\n",
    "y = W * x + b \n",
    "loss = tf.reduce_mean(tf.square(y - y_train))\n",
    "optimizer = tf.train.GradientDescentOptimizer(learning_rate=0.01)\n",
    "train = optimizer.minimize(loss)\n",
    "init = tf.initialize_all_variables()\n",
    "sess = tf.Session()\n",
    "sess.run(init)"
   ]
  },
  {
   "cell_type": "code",
   "execution_count": 8,
   "metadata": {
    "collapsed": false
   },
   "outputs": [
    {
     "name": "stdout",
     "output_type": "stream",
     "text": [
      "step=0: W=2.71 b=-8.16 loss=0.98\n",
      "step=10: W=2.72 b=-8.26 loss=0.88\n",
      "step=20: W=2.74 b=-8.35 loss=0.78\n",
      "step=30: W=2.75 b=-8.44 loss=0.70\n",
      "step=40: W=2.77 b=-8.53 loss=0.63\n",
      "step=50: W=2.78 b=-8.61 loss=0.56\n",
      "step=60: W=2.79 b=-8.69 loss=0.50\n",
      "step=70: W=2.80 b=-8.76 loss=0.45\n",
      "step=80: W=2.81 b=-8.83 loss=0.40\n",
      "step=90: W=2.82 b=-8.89 loss=0.36\n",
      "step=100: W=2.83 b=-8.95 loss=0.32\n"
     ]
    }
   ],
   "source": [
    "for step in range(101):\n",
    "    sess.run(train, feed_dict={x:x_train})\n",
    "    if step % 10 == 0:\n",
    "        print \"step=%d: W=%.2f b=%.2f loss=%.2f\" % (step, sess.run(W), sess.run(b), sess.run(loss, feed_dict={x:x_train}))"
   ]
  },
  {
   "cell_type": "code",
   "execution_count": 10,
   "metadata": {
    "collapsed": false
   },
   "outputs": [
    {
     "data": {
      "text/plain": [
       "array([[ -8.95347118],\n",
       "       [ -6.1203661 ],\n",
       "       [ -3.28726101],\n",
       "       [ -0.45415592],\n",
       "       [  2.37894917],\n",
       "       [  5.21205425],\n",
       "       [  8.04515934],\n",
       "       [ 10.87826443],\n",
       "       [ 13.71136951],\n",
       "       [ 16.54447556]], dtype=float32)"
      ]
     },
     "execution_count": 10,
     "metadata": {},
     "output_type": "execute_result"
    }
   ],
   "source": [
    "sess.run(y, feed_dict={x:x_train})"
   ]
  },
  {
   "cell_type": "code",
   "execution_count": null,
   "metadata": {
    "collapsed": true
   },
   "outputs": [],
   "source": []
  }
 ],
 "metadata": {
  "kernelspec": {
   "display_name": "Python 2",
   "language": "python",
   "name": "python2"
  },
  "language_info": {
   "codemirror_mode": {
    "name": "ipython",
    "version": 2
   },
   "file_extension": ".py",
   "mimetype": "text/x-python",
   "name": "python",
   "nbconvert_exporter": "python",
   "pygments_lexer": "ipython2",
   "version": "2.7.11"
  }
 },
 "nbformat": 4,
 "nbformat_minor": 0
}
